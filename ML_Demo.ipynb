{
 "cells": [
  {
   "cell_type": "markdown",
   "metadata": {},
   "source": [
    "# Download Fresh Data"
   ]
  },
  {
   "cell_type": "code",
   "execution_count": 7,
   "metadata": {
    "scrolled": true
   },
   "outputs": [],
   "source": [
    "# %pip install pandarallel\n",
    "# %pip install swifter"
   ]
  },
  {
   "cell_type": "code",
   "execution_count": 3,
   "metadata": {},
   "outputs": [
    {
     "name": "stdout",
     "output_type": "stream",
     "text": [
      "Fetching items since 1613437398\n",
      "CPU times: user 10.4 ms, sys: 9.79 ms, total: 20.2 ms\n",
      "Wall time: 602 ms\n"
     ]
    }
   ],
   "source": [
    "%%time\n",
    "!pocket-to-sqlite fetch \"$(pwd)/data/pocket.db\" #--silent \"$(pwd)/data/pocket.db\""
   ]
  },
  {
   "cell_type": "code",
   "execution_count": 1,
   "metadata": {},
   "outputs": [
    {
     "name": "stderr",
     "output_type": "stream",
     "text": [
      "[nltk_data] Downloading package stopwords to /Users/Jon/nltk_data...\n",
      "[nltk_data]   Package stopwords is already up-to-date!\n"
     ]
    }
   ],
   "source": [
    "import warnings; warnings.simplefilter('ignore')\n",
    "from utils import *\n",
    "%matplotlib inline\n",
    "\n",
    "conn = prepare_connection(sqlite3.connect('data/pocket.db',\n",
    "                                   detect_types=sqlite3.PARSE_DECLTYPES))\n"
   ]
  },
  {
   "cell_type": "code",
   "execution_count": 8,
   "metadata": {
    "scrolled": true
   },
   "outputs": [
    {
     "name": "stdout",
     "output_type": "stream",
     "text": [
      "Generating new text features..\n",
      "CPU times: user 12.2 ms, sys: 15.2 ms, total: 27.5 ms\n",
      "Wall time: 32.3 ms\n"
     ]
    }
   ],
   "source": [
    "%%time\n",
    "generate_new_features()"
   ]
  },
  {
   "cell_type": "code",
   "execution_count": 2,
   "metadata": {},
   "outputs": [
    {
     "data": {
      "image/png": "[encoded data removed]",
      "text/plain": [
       "<Figure size 864x1080 with 1 Axes>"
      ]
     },
     "metadata": {
      "needs_background": "light"
     },
     "output_type": "display_data"
    }
   ],
   "source": [
    "plot_tag_counts()"
   ]
  },
  {
   "cell_type": "code",
   "execution_count": 3,
   "metadata": {},
   "outputs": [],
   "source": [
    "# plot_word_frequencies()"
   ]
  },
  {
   "cell_type": "code",
   "execution_count": 5,
   "metadata": {},
   "outputs": [
    {
     "name": "stdout",
     "output_type": "stream",
     "text": [
      "CPU times: user 6.75 s, sys: 673 ms, total: 7.42 s\n",
      "Wall time: 8.95 s\n"
     ]
    }
   ],
   "source": [
    "%%time\n",
    "df = get_articles_df(fetch_all=True)\n",
    "tdf, all_tags = prep_dataframe(df, 'combined_text')"
   ]
  },
  {
   "cell_type": "markdown",
   "metadata": {},
   "source": [
    "# Train Models"
   ]
  },
  {
   "cell_type": "code",
   "execution_count": 6,
   "metadata": {
    "scrolled": true
   },
   "outputs": [
    {
     "name": "stdout",
     "output_type": "stream",
     "text": [
      "TFIDF\n",
      "(2645, 2953)\n",
      "(1304, 2953)\n",
      "Modeling\n",
      "class Name: algorithms\n",
      "class Name: vim\n",
      "class Name: python\n",
      "class Name: cli\n",
      "class Name: pandas\n",
      "class Name: statistics\n",
      "class Name: csv\n",
      "class Name: sql\n",
      "class Name: dba\n",
      "class Name: ios\n",
      "class Name: spark\n",
      "class Name: flask\n",
      "class Name: cosmosdb\n",
      "class Name: science\n",
      "class Name: data visualization\n",
      "class Name: tsql\n",
      "class Name: api\n",
      "class Name: windows\n",
      "class Name: ipython\n",
      "class Name: fullstack\n",
      "class Name: java\n",
      "class Name: sql tuning\n",
      "class Name: linux\n",
      "class Name: mbti\n",
      "class Name: oracle\n",
      "class Name: tutorial\n",
      "class Name: testing\n",
      "class Name: clr\n",
      "class Name: node\n",
      "class Name: machine learning\n",
      "class Name: docker\n",
      "class Name: apple\n",
      "class Name: modules\n",
      "class Name: jupyter\n",
      "class Name: gui\n",
      "class Name: data science\n",
      "class Name: db\n",
      "class Name: functional programming\n",
      "class Name: jobs\n",
      "class Name: excel\n",
      "class Name: plot\n",
      "class Name: json\n",
      "class Name: web development\n",
      "class Name: dataset\n",
      "class Name: powershell\n",
      "class Name: sql server\n",
      "class Name: realpython\n",
      "class Name: azure\n",
      "class Name: bash\n",
      "class Name: bayes\n",
      "class Name: programming\n",
      "class Name: pg extensions\n",
      "class Name: psych\n",
      "class Name: c#\n",
      "class Name: plv8\n",
      "class Name: electron\n",
      "class Name: xml\n",
      "class Name: github\n",
      "class Name: mysql\n",
      "class Name: graalvm\n",
      "class Name: mongodb\n",
      "class Name: js\n",
      "class Name: postgres\n",
      "class Name: sqlite\n",
      "class Name: localdb\n",
      "class Name: sqlserver\n",
      "class Name: dataframe\n",
      "class Name: science fiction\n",
      "class Name: terminal\n",
      "class Name: mac\n",
      "class Name: microsoft\n",
      "class Name: math\n",
      "class Name: etl\n",
      "CPU times: user 31min 13s, sys: 45 s, total: 31min 58s\n",
      "Wall time: 7min 29s\n"
     ]
    }
   ],
   "source": [
    "%%time \n",
    "output_df = train_models(tdf, all_tags)"
   ]
  },
  {
   "cell_type": "code",
   "execution_count": 7,
   "metadata": {},
   "outputs": [
    {
     "data": {
      "text/html": [
       "<div>\n",
       "<style scoped>\n",
       "    .dataframe tbody tr th:only-of-type {\n",
       "        vertical-align: middle;\n",
       "    }\n",
       "\n",
       "    .dataframe tbody tr th {\n",
       "        vertical-align: top;\n",
       "    }\n",
       "\n",
       "    .dataframe thead th {\n",
       "        text-align: right;\n",
       "    }\n",
       "</style>\n",
       "<table border=\"1\" class=\"dataframe\">\n",
       "  <thead>\n",
       "    <tr style=\"text-align: right;\">\n",
       "      <th></th>\n",
       "      <th>item_id</th>\n",
       "      <th>combined_text</th>\n",
       "      <th>resolved_title</th>\n",
       "      <th>resolved_url</th>\n",
       "      <th>tag_list</th>\n",
       "    </tr>\n",
       "  </thead>\n",
       "  <tbody>\n",
       "    <tr>\n",
       "      <th>0</th>\n",
       "      <td>73981909</td>\n",
       "      <td>every need pl sql prints something terminal traditional solution dbms output put line used probably know obstacles however absolute buffer size limit remains markus winand blog index html markus winand blog performance reliability maintainability scalability software quality quality life index h...</td>\n",
       "      <td>Pipelined Functions: Better Than DBMS_OUTPUT</td>\n",
       "      <td>http://blog.fatalmind.com/2009/11/11/pipelined-functions-better-then-dbms_output/</td>\n",
       "      <td>[oracle, plsql, sql]</td>\n",
       "    </tr>\n",
       "    <tr>\n",
       "      <th>1</th>\n",
       "      <td>2513311295</td>\n",
       "      <td>jealous go developers building executable easily shipping users great users could run application without installing anything dream pyinstaller one way get python ecosystem real python static real python logo c edea svg start start learn python python tutorials depth articles tutorials video cou...</td>\n",
       "      <td>Using PyInstaller to Easily Distribute Python Applications</td>\n",
       "      <td>https://realpython.com/pyinstaller-python/</td>\n",
       "      <td>[python, realpython]</td>\n",
       "    </tr>\n",
       "    <tr>\n",
       "      <th>2</th>\n",
       "      <td>1978017352</td>\n",
       "      <td>many entry level investors hedge funds shrouded mystery exclusivity forbidden nginx</td>\n",
       "      <td>What is a Hedge Fund?</td>\n",
       "      <td>http://www.visualcapitalist.com/what-is-a-hedge-fund/</td>\n",
       "      <td>[]</td>\n",
       "    </tr>\n",
       "    <tr>\n",
       "      <th>3</th>\n",
       "      <td>2984555302</td>\n",
       "      <td>mongodb popular distributed document database offers replication via homegrown consensus protocol draws inspiration raft distribute data across shards via mongos previously evaluated mongodb versions rc jepsen analyses analyses talks talks consistency consistency services services ethics ethics ...</td>\n",
       "      <td>MongoDB 4.2.6</td>\n",
       "      <td>http://jepsen.io/analyses/mongodb-4.2.6</td>\n",
       "      <td>[]</td>\n",
       "    </tr>\n",
       "    <tr>\n",
       "      <th>4</th>\n",
       "      <td>2330673256</td>\n",
       "      <td>azure database migration service supports migrations mongodb cosmos db mongo api sign preview capability azure cosmos db microsoft globally distributed multi model database service mission critical applications javascript void https gxcuf lithium com html assets content images globalheader micro...</td>\n",
       "      <td>Announcing Preview of MongoDB migrations to Cosmos DB Mongo API using Azure Database Migration Service</td>\n",
       "      <td>https://blogs.msdn.microsoft.com/datamigration/2018/09/21/annoucing-preview-of-mongodb-migrations-to-cosmosdb-mongo-api-using-azure-database-migration-service/</td>\n",
       "      <td>[]</td>\n",
       "    </tr>\n",
       "  </tbody>\n",
       "</table>\n",
       "</div>"
      ],
      "text/plain": [
       "      item_id  \\\n",
       "0    73981909   \n",
       "1  2513311295   \n",
       "2  1978017352   \n",
       "3  2984555302   \n",
       "4  2330673256   \n",
       "\n",
       "                                                                                                                                                                                                                                                                                                 combined_text  \\\n",
       "0  every need pl sql prints something terminal traditional solution dbms output put line used probably know obstacles however absolute buffer size limit remains markus winand blog index html markus winand blog performance reliability maintainability scalability software quality quality life index h...   \n",
       "1  jealous go developers building executable easily shipping users great users could run application without installing anything dream pyinstaller one way get python ecosystem real python static real python logo c edea svg start start learn python python tutorials depth articles tutorials video cou...   \n",
       "2                                                                                                                                                                                                                          many entry level investors hedge funds shrouded mystery exclusivity forbidden nginx   \n",
       "3  mongodb popular distributed document database offers replication via homegrown consensus protocol draws inspiration raft distribute data across shards via mongos previously evaluated mongodb versions rc jepsen analyses analyses talks talks consistency consistency services services ethics ethics ...   \n",
       "4  azure database migration service supports migrations mongodb cosmos db mongo api sign preview capability azure cosmos db microsoft globally distributed multi model database service mission critical applications javascript void https gxcuf lithium com html assets content images globalheader micro...   \n",
       "\n",
       "                                                                                           resolved_title  \\\n",
       "0                                                            Pipelined Functions: Better Than DBMS_OUTPUT   \n",
       "1                                              Using PyInstaller to Easily Distribute Python Applications   \n",
       "2                                                                                   What is a Hedge Fund?   \n",
       "3                                                                                           MongoDB 4.2.6   \n",
       "4  Announcing Preview of MongoDB migrations to Cosmos DB Mongo API using Azure Database Migration Service   \n",
       "\n",
       "                                                                                                                                                      resolved_url  \\\n",
       "0                                                                                http://blog.fatalmind.com/2009/11/11/pipelined-functions-better-then-dbms_output/   \n",
       "1                                                                                                                       https://realpython.com/pyinstaller-python/   \n",
       "2                                                                                                            http://www.visualcapitalist.com/what-is-a-hedge-fund/   \n",
       "3                                                                                                                          http://jepsen.io/analyses/mongodb-4.2.6   \n",
       "4  https://blogs.msdn.microsoft.com/datamigration/2018/09/21/annoucing-preview-of-mongodb-migrations-to-cosmosdb-mongo-api-using-azure-database-migration-service/   \n",
       "\n",
       "               tag_list  \n",
       "0  [oracle, plsql, sql]  \n",
       "1  [python, realpython]  \n",
       "2                    []  \n",
       "3                    []  \n",
       "4                    []  "
      ]
     },
     "execution_count": 7,
     "metadata": {},
     "output_type": "execute_result"
    }
   ],
   "source": [
    "output = pd.merge(left=pd.merge(left=output_df, \n",
    "         right=df[['item_id', 'combined_text', 'resolved_title','resolved_url', 'tags']], \n",
    "         how='left', on=['item_id']), right=tdf[['item_id', 'tag_list']], on=['item_id'])\n",
    "\n",
    "del output['tags']\n",
    "output.head()"
   ]
  },
  {
   "cell_type": "markdown",
   "metadata": {},
   "source": [
    "# Predict New Tags"
   ]
  },
  {
   "cell_type": "code",
   "execution_count": 8,
   "metadata": {},
   "outputs": [
    {
     "name": "stdout",
     "output_type": "stream",
     "text": [
      "CPU times: user 247 ms, sys: 164 ms, total: 411 ms\n",
      "Wall time: 1.97 s\n"
     ]
    }
   ],
   "source": [
    "%%time\n",
    "new_articles = get_articles_df(fetch_all=False)\n",
    "prediction_df, all_tags = prep_dataframe(new_articles , 'combined_text')"
   ]
  },
  {
   "cell_type": "code",
   "execution_count": 9,
   "metadata": {},
   "outputs": [
    {
     "name": "stdout",
     "output_type": "stream",
     "text": [
      "TFIDF\n",
      "(4, 42539)\n",
      "Modeling\n"
     ]
    }
   ],
   "source": [
    "new_article_output = predict_new(prediction_df)"
   ]
  },
  {
   "cell_type": "code",
   "execution_count": 10,
   "metadata": {},
   "outputs": [
    {
     "data": {
      "text/plain": [
       "[2874107333, 2218288050, 3029322438, 3028625337]"
      ]
     },
     "execution_count": 10,
     "metadata": {},
     "output_type": "execute_result"
    }
   ],
   "source": [
    "output = pd.merge(left=pd.merge(left=new_article_output, \n",
    "         right=new_articles[['item_id', 'combined_text', 'resolved_title','resolved_url', 'tags']], \n",
    "         how='left', on=['item_id']), right=prediction_df[['item_id', 'tag_list']], on=['item_id'])\n",
    "\n",
    "del output['tags']\n",
    "output.item_id.tolist()"
   ]
  },
  {
   "cell_type": "code",
   "execution_count": 11,
   "metadata": {},
   "outputs": [
    {
     "name": "stderr",
     "output_type": "stream",
     "text": [
      "0it [00:00, ?it/s]"
     ]
    },
    {
     "name": "stdout",
     "output_type": "stream",
     "text": [
      "Total records to process: 0\n"
     ]
    },
    {
     "name": "stderr",
     "output_type": "stream",
     "text": [
      "\n"
     ]
    },
    {
     "data": {
      "text/plain": [
       "[]"
      ]
     },
     "execution_count": 11,
     "metadata": {},
     "output_type": "execute_result"
    }
   ],
   "source": [
    "add_new_tags()"
   ]
  },
  {
   "cell_type": "code",
   "execution_count": null,
   "metadata": {},
   "outputs": [],
   "source": []
  }
 ],
 "metadata": {
  "kernelspec": {
   "display_name": "Python 3",
   "language": "python",
   "name": "python3"
  },
  "language_info": {
   "codemirror_mode": {
    "name": "ipython",
    "version": 3
   },
   "file_extension": ".py",
   "mimetype": "text/x-python",
   "name": "python",
   "nbconvert_exporter": "python",
   "pygments_lexer": "ipython3",
   "version": "3.8.5"
  }
 },
 "nbformat": 4,
 "nbformat_minor": 4
}
